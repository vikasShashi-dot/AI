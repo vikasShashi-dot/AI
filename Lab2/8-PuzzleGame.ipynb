{
  "nbformat": 4,
  "nbformat_minor": 0,
  "metadata": {
    "colab": {
      "provenance": [],
      "authorship_tag": "ABX9TyOCsJoeNDOkhe6rCOrz5xVv",
      "include_colab_link": true
    },
    "kernelspec": {
      "name": "python3",
      "display_name": "Python 3"
    },
    "language_info": {
      "name": "python"
    }
  },
  "cells": [
    {
      "cell_type": "markdown",
      "metadata": {
        "id": "view-in-github",
        "colab_type": "text"
      },
      "source": [
        "<a href=\"https://colab.research.google.com/github/vikasShashi-dot/AI/blob/main/Lab2/8-PuzzleGame.ipynb\" target=\"_parent\"><img src=\"https://colab.research.google.com/assets/colab-badge.svg\" alt=\"Open In Colab\"/></a>"
      ]
    },
    {
      "cell_type": "markdown",
      "source": [
        "IDDFS"
      ],
      "metadata": {
        "id": "5FtpgNYc1P3O"
      }
    },
    {
      "cell_type": "code",
      "execution_count": null,
      "metadata": {
        "colab": {
          "base_uri": "https://localhost:8080/"
        },
        "id": "d0hGUvOA0Nu_",
        "outputId": "e72042a4-7977-4b46-9ded-5101e45c15c7"
      },
      "outputs": [
        {
          "output_type": "stream",
          "name": "stderr",
          "text": [
            "<>:49: SyntaxWarning: invalid escape sequence '\\S'\n",
            "<>:49: SyntaxWarning: invalid escape sequence '\\S'\n",
            "/tmp/ipython-input-712457856.py:49: SyntaxWarning: invalid escape sequence '\\S'\n",
            "  print(\"\\Solution found!\")\n"
          ]
        },
        {
          "output_type": "stream",
          "name": "stdout",
          "text": [
            "\n",
            "Enter the start puzzle (3x3, use -1 for blank):\n",
            "Row 1 (space-separated 3 numbers): 1 2 3\n",
            "Row 2 (space-separated 3 numbers): 4 -1 6\n",
            "Row 3 (space-separated 3 numbers): 7 5 8\n",
            "\n",
            "Enter the goal puzzle (3x3, use -1 for blank):\n",
            "Row 1 (space-separated 3 numbers): 1 2 3\n",
            "Row 2 (space-separated 3 numbers): 4 5 6\n",
            "Row 3 (space-separated 3 numbers): 7 8 -1\n",
            "\n",
            "~~~~~~~~~~~~ IDDFS ~~~~~~~~~~~~\n",
            "\n",
            "Trying depth limit = 1\n",
            "\n",
            "Trying depth limit = 2\n",
            "\\Solution found!\n",
            "[[1, 2, 3], [4, -1, 6], [7, 5, 8]]\n",
            "[[1, 2, 3], [4, 5, 6], [7, -1, 8]]\n",
            "[[1, 2, 3], [4, 5, 6], [7, 8, -1]]\n",
            "Moves: ['down', 'right']\n",
            "Path cost = 2\n"
          ]
        }
      ],
      "source": [
        "import copy\n",
        "\n",
        "def get_puzzle(name):\n",
        "    print(f\"\\nEnter the {name} puzzle (3x3, use -1 for blank):\")\n",
        "    puzzle = []\n",
        "    for i in range(3):\n",
        "        row = list(map(int, input(f\"Row {i+1} (space-separated 3 numbers): \").split()))\n",
        "        puzzle.append(row)\n",
        "    return puzzle\n",
        "\n",
        "def move(temp, movement):\n",
        "    for i in range(3):\n",
        "        for j in range(3):\n",
        "            if temp[i][j] == -1:\n",
        "                if movement == \"up\" and i > 0:\n",
        "                    temp[i][j], temp[i-1][j] = temp[i-1][j], temp[i][j]\n",
        "                elif movement == \"down\" and i < 2:\n",
        "                    temp[i][j], temp[i+1][j] = temp[i+1][j], temp[i][j]\n",
        "                elif movement == \"left\" and j > 0:\n",
        "                    temp[i][j], temp[i][j-1] = temp[i][j-1], temp[i][j]\n",
        "                elif movement == \"right\" and j < 2:\n",
        "                    temp[i][j], temp[i][j+1] = temp[i][j+1], temp[i][j]\n",
        "                return temp\n",
        "    return temp\n",
        "\n",
        "def dls(puzzle, depth, limit, last_move, goal):\n",
        "    if puzzle == goal:\n",
        "        return True, [puzzle], []\n",
        "\n",
        "    if depth >= limit:\n",
        "        return False, [], []\n",
        "\n",
        "    for move_dir, opposite in [(\"up\",\"down\"), (\"left\",\"right\"), (\"down\",\"up\"), (\"right\",\"left\")]:\n",
        "        if last_move == opposite:\n",
        "            continue\n",
        "        temp = copy.deepcopy(puzzle)\n",
        "        new_state = move(temp, move_dir)\n",
        "        if new_state != puzzle:\n",
        "            found, path, moves = dls(new_state, depth+1, limit, move_dir, goal)\n",
        "            if found:\n",
        "                return True, [puzzle] + path, [move_dir] + moves\n",
        "    return False, [], []\n",
        "\n",
        "def ids(start, goal):\n",
        "    for limit in range(1, 50):\n",
        "        print(f\"\\nTrying depth limit = {limit}\")\n",
        "        found, path, moves = dls(start, 0, limit, None, goal)\n",
        "        if found:\n",
        "            print(\"\\Solution found!\")\n",
        "            for step in path:\n",
        "                print(step)\n",
        "            print(\"Moves:\", moves)\n",
        "            print(\"Path cost =\", len(path)-1)\n",
        "            return\n",
        "    print(\" Solution not found within depth limit.\")\n",
        "\n",
        "start_puzzle = get_puzzle(\"start\")\n",
        "goal_puzzle = get_puzzle(\"goal\")\n",
        "\n",
        "print(\"\\n~~~~~~~~~~~~ IDDFS ~~~~~~~~~~~~\")\n",
        "ids(start_puzzle, goal_puzzle)"
      ]
    }
  ]
}