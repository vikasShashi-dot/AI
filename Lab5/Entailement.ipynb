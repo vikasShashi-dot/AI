{
  "nbformat": 4,
  "nbformat_minor": 0,
  "metadata": {
    "colab": {
      "provenance": [],
      "authorship_tag": "ABX9TyPtqKs44iHhBko4oKVPCps8",
      "include_colab_link": true
    },
    "kernelspec": {
      "name": "python3",
      "display_name": "Python 3"
    },
    "language_info": {
      "name": "python"
    }
  },
  "cells": [
    {
      "cell_type": "markdown",
      "metadata": {
        "id": "view-in-github",
        "colab_type": "text"
      },
      "source": [
        "<a href=\"https://colab.research.google.com/github/vikasShashi-dot/AI/blob/main/Lab5/Entailement.ipynb\" target=\"_parent\"><img src=\"https://colab.research.google.com/assets/colab-badge.svg\" alt=\"Open In Colab\"/></a>"
      ]
    },
    {
      "cell_type": "code",
      "execution_count": 1,
      "metadata": {
        "colab": {
          "base_uri": "https://localhost:8080/"
        },
        "id": "W_Dp8wYitAnT",
        "outputId": "ead1f364-f2cd-47ff-8252-396a9762f276"
      },
      "outputs": [
        {
          "output_type": "stream",
          "name": "stdout",
          "text": [
            "Truth Table:\n",
            "A | B | C | A∨C | B∨¬C | KB | A∨B |\n",
            "-----------------------------------------------\n",
            "F | F | F | F | T | F | F |\n",
            "F | F | T | T | F | F | F |\n",
            "F | T | F | F | T | F | T |\n",
            "F | T | T | T | T | T | T |\n",
            "T | F | F | T | T | T | T |\n",
            "T | F | T | T | F | F | T |\n",
            "T | T | F | T | T | T | T |\n",
            "T | T | T | T | T | T | T |\n",
            "\n",
            "Does KB entail alpha? True\n"
          ]
        }
      ],
      "source": [
        "from itertools import product\n",
        "\n",
        "def evaluate(expr, model):\n",
        "    if isinstance(expr, str):\n",
        "        return model[expr]\n",
        "    op = expr[0]\n",
        "    if op == 'not':\n",
        "        return not evaluate(expr[1], model)\n",
        "    elif op == 'and':\n",
        "        return evaluate(expr[1], model) and evaluate(expr[2], model)\n",
        "    elif op == 'or':\n",
        "        return evaluate(expr[1], model) or evaluate(expr[2], model)\n",
        "    else:\n",
        "        raise ValueError(f\"Unknown operator: {op}\")\n",
        "\n",
        "def get_symbols(expr):\n",
        "    if isinstance(expr, str):\n",
        "        return {expr}\n",
        "    op = expr[0]\n",
        "    if op == 'not':\n",
        "        return get_symbols(expr[1])\n",
        "    else:\n",
        "        return get_symbols(expr[1]) | get_symbols(expr[2])\n",
        "\n",
        "def tt_entails(KB, alpha):\n",
        "    symbols = list(get_symbols(KB) | get_symbols(alpha))\n",
        "    for values in product([False, True], repeat=len(symbols)):\n",
        "        model = dict(zip(symbols, values))\n",
        "        if evaluate(KB, model) and not evaluate(alpha, model):\n",
        "            return False\n",
        "    return True\n",
        "\n",
        "def print_truth_table(KB, alpha):\n",
        "    symbols = sorted(list(get_symbols(KB) | get_symbols(alpha)))\n",
        "    print(f\"{' | '.join(symbols)} | A∨C | B∨¬C | KB | A∨B |\")\n",
        "    print('-' * 47)\n",
        "    for values in product([False, True], repeat=len(symbols)):\n",
        "        model = dict(zip(symbols, values))\n",
        "        A, B, C = model['A'], model['B'], model['C']\n",
        "        val_AorC = A or C\n",
        "        val_BorNotC = B or (not C)\n",
        "        val_KB = evaluate(KB, model)\n",
        "        val_alpha = evaluate(alpha, model)\n",
        "        row = ' | '.join(['T' if model[s] else 'F' for s in symbols])\n",
        "        row += f\" | {'T' if val_AorC else 'F'} | {'T' if val_BorNotC else 'F'} | {'T' if val_KB else 'F'} | {'T' if val_alpha else 'F'} |\"\n",
        "        print(row)\n",
        "\n",
        "KB = ('and', ('or', 'A', 'C'), ('or', 'B', ('not', 'C')))\n",
        "alpha = ('or', 'A', 'B')\n",
        "\n",
        "print(\"Truth Table:\")\n",
        "print_truth_table(KB, alpha)\n",
        "print()\n",
        "print(f\"Does KB entail alpha? {tt_entails(KB, alpha)}\")"
      ]
    },
    {
      "cell_type": "code",
      "source": [],
      "metadata": {
        "id": "BNhCkY6Rtkjv"
      },
      "execution_count": null,
      "outputs": []
    }
  ]
}